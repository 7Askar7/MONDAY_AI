{
  "nbformat": 4,
  "nbformat_minor": 0,
  "metadata": {
    "colab": {
      "provenance": [],
      "collapsed_sections": [
        "W4qhspuX3zOE"
      ],
      "toc_visible": true
    },
    "kernelspec": {
      "name": "python3",
      "display_name": "Python 3"
    },
    "language_info": {
      "name": "python"
    },
    "gpuClass": "standard",
    "accelerator": "GPU"
  },
  "cells": [
    {
      "cell_type": "markdown",
      "source": [
        "# Семинар 1\n",
        "**План семинара:**\n",
        "1. Получение информации об оборудовании\n",
        "2. Библиотека Pytorch\n",
        "  - установка (Windows/Linux(Google Colab); CPU/GPU)\n",
        "  - обзор возможностей и особенностей\n",
        "  - запуск простейших примеров\n",
        "3. Введение в глубокое обучение\n",
        "  - перцептрон (решение практических задач)"
      ],
      "metadata": {
        "id": "EShwaJUpigbf"
      }
    },
    {
      "cell_type": "markdown",
      "source": [
        "# Получение информации об оборудовании"
      ],
      "metadata": {
        "id": "SE_-SpH-mtFc"
      }
    },
    {
      "cell_type": "markdown",
      "source": [
        "**Windows** - GUI\\\n",
        "**Linux** (Google colab) - terminal"
      ],
      "metadata": {
        "id": "lnGz2Eopm3ag"
      }
    },
    {
      "cell_type": "code",
      "source": [
        "# версия Linux\n",
        "!cat /proc/version"
      ],
      "metadata": {
        "colab": {
          "base_uri": "https://localhost:8080/"
        },
        "id": "vPDZJB92omAL",
        "outputId": "164b56a4-da3e-4455-8352-c7b0b41f6f19"
      },
      "execution_count": null,
      "outputs": [
        {
          "output_type": "stream",
          "name": "stdout",
          "text": [
            "Linux version 5.10.133+ (builder@b1018906abc3) (Chromium OS 12.0_pre422132_p20210405-r10 clang version 13.0.0 (/var/tmp/portage/sys-devel/llvm-12.0_pre422132_p20210405-r10/work/llvm-12.0_pre422132_p20210405/clang cd442157cff4aad209ae532cbf031abbe10bc1df), LLD 13.0.0 (/var/tmp/portage/sys-devel/llvm-12.0_pre422132_p20210405-r10/work/llvm-12.0_pre422132_p20210405/lld cd442157cff4aad209ae532cbf031abbe10bc1df)) #1 SMP Fri Aug 26 08:44:51 UTC 2022\n"
          ]
        }
      ]
    },
    {
      "cell_type": "code",
      "source": [
        "# версия дистрибутива Linux\n",
        "!lsb_release -a"
      ],
      "metadata": {
        "colab": {
          "base_uri": "https://localhost:8080/"
        },
        "id": "ePuVTgneo0Rs",
        "outputId": "1d2d8297-13ab-4d44-f7c2-ff269074cb95"
      },
      "execution_count": null,
      "outputs": [
        {
          "output_type": "stream",
          "name": "stdout",
          "text": [
            "No LSB modules are available.\n",
            "Distributor ID:\tUbuntu\n",
            "Description:\tUbuntu 18.04.6 LTS\n",
            "Release:\t18.04\n",
            "Codename:\tbionic\n"
          ]
        }
      ]
    },
    {
      "cell_type": "code",
      "execution_count": null,
      "metadata": {
        "id": "eXAC5VIPiJl7",
        "colab": {
          "base_uri": "https://localhost:8080/"
        },
        "outputId": "71432aa9-ade6-45d8-ddc3-1cafe02ed36e"
      },
      "outputs": [
        {
          "output_type": "stream",
          "name": "stdout",
          "text": [
            "Thu Dec  1 07:35:59 2022       \n",
            "+-----------------------------------------------------------------------------+\n",
            "| NVIDIA-SMI 460.32.03    Driver Version: 460.32.03    CUDA Version: 11.2     |\n",
            "|-------------------------------+----------------------+----------------------+\n",
            "| GPU  Name        Persistence-M| Bus-Id        Disp.A | Volatile Uncorr. ECC |\n",
            "| Fan  Temp  Perf  Pwr:Usage/Cap|         Memory-Usage | GPU-Util  Compute M. |\n",
            "|                               |                      |               MIG M. |\n",
            "|===============================+======================+======================|\n",
            "|   0  Tesla T4            Off  | 00000000:00:04.0 Off |                    0 |\n",
            "| N/A   42C    P8    10W /  70W |      0MiB / 15109MiB |      0%      Default |\n",
            "|                               |                      |                  N/A |\n",
            "+-------------------------------+----------------------+----------------------+\n",
            "                                                                               \n",
            "+-----------------------------------------------------------------------------+\n",
            "| Processes:                                                                  |\n",
            "|  GPU   GI   CI        PID   Type   Process name                  GPU Memory |\n",
            "|        ID   ID                                                   Usage      |\n",
            "|=============================================================================|\n",
            "|  No running processes found                                                 |\n",
            "+-----------------------------------------------------------------------------+\n"
          ]
        }
      ],
      "source": [
        "# видеокарта\n",
        "!nvidia-smi"
      ]
    },
    {
      "cell_type": "markdown",
      "source": [
        "CUDA Version в nvidia-smi - это не ваша текущая версия CUDA, а [максимально поддерживаемая версия](https://docs.nvidia.com/cuda/cuda-toolkit-release-notes/index.html) для текущего драйвера видеокарты."
      ],
      "metadata": {
        "id": "CPIo9i8Tx0aX"
      }
    },
    {
      "cell_type": "code",
      "source": [
        "# cuda compiler\n",
        "!nvcc --version"
      ],
      "metadata": {
        "colab": {
          "base_uri": "https://localhost:8080/"
        },
        "id": "TF2LKwK9wsiH",
        "outputId": "bafc839f-c31f-4c7d-d551-22fc05f25d8c"
      },
      "execution_count": null,
      "outputs": [
        {
          "output_type": "stream",
          "name": "stdout",
          "text": [
            "nvcc: NVIDIA (R) Cuda compiler driver\n",
            "Copyright (c) 2005-2021 NVIDIA Corporation\n",
            "Built on Sun_Feb_14_21:12:58_PST_2021\n",
            "Cuda compilation tools, release 11.2, V11.2.152\n",
            "Build cuda_11.2.r11.2/compiler.29618528_0\n"
          ]
        }
      ]
    },
    {
      "cell_type": "code",
      "source": [
        "# процессор\n",
        "!cat /proc/cpuinfo"
      ],
      "metadata": {
        "colab": {
          "base_uri": "https://localhost:8080/"
        },
        "id": "W1vqoHiFnzCk",
        "outputId": "0237c4d2-6f8a-4c0a-bc84-e0370438ab67"
      },
      "execution_count": null,
      "outputs": [
        {
          "output_type": "stream",
          "name": "stdout",
          "text": [
            "processor\t: 0\n",
            "vendor_id\t: GenuineIntel\n",
            "cpu family\t: 6\n",
            "model\t\t: 85\n",
            "model name\t: Intel(R) Xeon(R) CPU @ 2.00GHz\n",
            "stepping\t: 3\n",
            "microcode\t: 0x1\n",
            "cpu MHz\t\t: 2000.208\n",
            "cache size\t: 39424 KB\n",
            "physical id\t: 0\n",
            "siblings\t: 2\n",
            "core id\t\t: 0\n",
            "cpu cores\t: 1\n",
            "apicid\t\t: 0\n",
            "initial apicid\t: 0\n",
            "fpu\t\t: yes\n",
            "fpu_exception\t: yes\n",
            "cpuid level\t: 13\n",
            "wp\t\t: yes\n",
            "flags\t\t: fpu vme de pse tsc msr pae mce cx8 apic sep mtrr pge mca cmov pat pse36 clflush mmx fxsr sse sse2 ss ht syscall nx pdpe1gb rdtscp lm constant_tsc rep_good nopl xtopology nonstop_tsc cpuid tsc_known_freq pni pclmulqdq ssse3 fma cx16 pcid sse4_1 sse4_2 x2apic movbe popcnt aes xsave avx f16c rdrand hypervisor lahf_lm abm 3dnowprefetch invpcid_single ssbd ibrs ibpb stibp fsgsbase tsc_adjust bmi1 hle avx2 smep bmi2 erms invpcid rtm mpx avx512f avx512dq rdseed adx smap clflushopt clwb avx512cd avx512bw avx512vl xsaveopt xsavec xgetbv1 xsaves arat md_clear arch_capabilities\n",
            "bugs\t\t: cpu_meltdown spectre_v1 spectre_v2 spec_store_bypass l1tf mds swapgs taa mmio_stale_data retbleed\n",
            "bogomips\t: 4000.41\n",
            "clflush size\t: 64\n",
            "cache_alignment\t: 64\n",
            "address sizes\t: 46 bits physical, 48 bits virtual\n",
            "power management:\n",
            "\n",
            "processor\t: 1\n",
            "vendor_id\t: GenuineIntel\n",
            "cpu family\t: 6\n",
            "model\t\t: 85\n",
            "model name\t: Intel(R) Xeon(R) CPU @ 2.00GHz\n",
            "stepping\t: 3\n",
            "microcode\t: 0x1\n",
            "cpu MHz\t\t: 2000.208\n",
            "cache size\t: 39424 KB\n",
            "physical id\t: 0\n",
            "siblings\t: 2\n",
            "core id\t\t: 0\n",
            "cpu cores\t: 1\n",
            "apicid\t\t: 1\n",
            "initial apicid\t: 1\n",
            "fpu\t\t: yes\n",
            "fpu_exception\t: yes\n",
            "cpuid level\t: 13\n",
            "wp\t\t: yes\n",
            "flags\t\t: fpu vme de pse tsc msr pae mce cx8 apic sep mtrr pge mca cmov pat pse36 clflush mmx fxsr sse sse2 ss ht syscall nx pdpe1gb rdtscp lm constant_tsc rep_good nopl xtopology nonstop_tsc cpuid tsc_known_freq pni pclmulqdq ssse3 fma cx16 pcid sse4_1 sse4_2 x2apic movbe popcnt aes xsave avx f16c rdrand hypervisor lahf_lm abm 3dnowprefetch invpcid_single ssbd ibrs ibpb stibp fsgsbase tsc_adjust bmi1 hle avx2 smep bmi2 erms invpcid rtm mpx avx512f avx512dq rdseed adx smap clflushopt clwb avx512cd avx512bw avx512vl xsaveopt xsavec xgetbv1 xsaves arat md_clear arch_capabilities\n",
            "bugs\t\t: cpu_meltdown spectre_v1 spectre_v2 spec_store_bypass l1tf mds swapgs taa mmio_stale_data retbleed\n",
            "bogomips\t: 4000.41\n",
            "clflush size\t: 64\n",
            "cache_alignment\t: 64\n",
            "address sizes\t: 46 bits physical, 48 bits virtual\n",
            "power management:\n",
            "\n"
          ]
        }
      ]
    },
    {
      "cell_type": "code",
      "source": [
        "# процессор\n",
        "!lscpu"
      ],
      "metadata": {
        "colab": {
          "base_uri": "https://localhost:8080/"
        },
        "id": "_q3ACTnJoMJU",
        "outputId": "f846a7ff-78e6-4324-f9da-d74095d39ec5"
      },
      "execution_count": null,
      "outputs": [
        {
          "output_type": "stream",
          "name": "stdout",
          "text": [
            "Architecture:        x86_64\n",
            "CPU op-mode(s):      32-bit, 64-bit\n",
            "Byte Order:          Little Endian\n",
            "CPU(s):              2\n",
            "On-line CPU(s) list: 0,1\n",
            "Thread(s) per core:  2\n",
            "Core(s) per socket:  1\n",
            "Socket(s):           1\n",
            "NUMA node(s):        1\n",
            "Vendor ID:           GenuineIntel\n",
            "CPU family:          6\n",
            "Model:               85\n",
            "Model name:          Intel(R) Xeon(R) CPU @ 2.00GHz\n",
            "Stepping:            3\n",
            "CPU MHz:             2000.208\n",
            "BogoMIPS:            4000.41\n",
            "Hypervisor vendor:   KVM\n",
            "Virtualization type: full\n",
            "L1d cache:           32K\n",
            "L1i cache:           32K\n",
            "L2 cache:            1024K\n",
            "L3 cache:            39424K\n",
            "NUMA node0 CPU(s):   0,1\n",
            "Flags:               fpu vme de pse tsc msr pae mce cx8 apic sep mtrr pge mca cmov pat pse36 clflush mmx fxsr sse sse2 ss ht syscall nx pdpe1gb rdtscp lm constant_tsc rep_good nopl xtopology nonstop_tsc cpuid tsc_known_freq pni pclmulqdq ssse3 fma cx16 pcid sse4_1 sse4_2 x2apic movbe popcnt aes xsave avx f16c rdrand hypervisor lahf_lm abm 3dnowprefetch invpcid_single ssbd ibrs ibpb stibp fsgsbase tsc_adjust bmi1 hle avx2 smep bmi2 erms invpcid rtm mpx avx512f avx512dq rdseed adx smap clflushopt clwb avx512cd avx512bw avx512vl xsaveopt xsavec xgetbv1 xsaves arat md_clear arch_capabilities\n"
          ]
        }
      ]
    },
    {
      "cell_type": "code",
      "source": [
        "# оперативная память\n",
        "!grep MemTotal /proc/meminfo"
      ],
      "metadata": {
        "colab": {
          "base_uri": "https://localhost:8080/"
        },
        "id": "e_AQVQQaoVFR",
        "outputId": "f6085241-5301-442a-90fb-598ce1d7a13e"
      },
      "execution_count": null,
      "outputs": [
        {
          "output_type": "stream",
          "name": "stdout",
          "text": [
            "MemTotal:       13297220 kB\n"
          ]
        }
      ]
    },
    {
      "cell_type": "code",
      "source": [
        "# диск\n",
        "!df -h"
      ],
      "metadata": {
        "colab": {
          "base_uri": "https://localhost:8080/"
        },
        "id": "58uYqrEBqrqj",
        "outputId": "df5ba3a2-8238-4491-9989-d008669491a3"
      },
      "execution_count": null,
      "outputs": [
        {
          "output_type": "stream",
          "name": "stdout",
          "text": [
            "Filesystem      Size  Used Avail Use% Mounted on\n",
            "overlay          79G   28G   51G  36% /\n",
            "tmpfs            64M     0   64M   0% /dev\n",
            "shm             5.7G     0  5.7G   0% /dev/shm\n",
            "/dev/root       2.0G  1.1G  910M  54% /sbin/docker-init\n",
            "tmpfs           6.4G   40K  6.4G   1% /var/colab\n",
            "/dev/sda1        75G   41G   35G  55% /opt/bin/.nvidia\n",
            "tmpfs           6.4G     0  6.4G   0% /proc/acpi\n",
            "tmpfs           6.4G     0  6.4G   0% /proc/scsi\n",
            "tmpfs           6.4G     0  6.4G   0% /sys/firmware\n"
          ]
        }
      ]
    },
    {
      "cell_type": "code",
      "source": [
        "!du -h | sort -h"
      ],
      "metadata": {
        "id": "6AZaA5fOwXXC",
        "colab": {
          "base_uri": "https://localhost:8080/"
        },
        "outputId": "b818a510-705d-41ea-e5ef-3503d58d090a"
      },
      "execution_count": null,
      "outputs": [
        {
          "output_type": "stream",
          "name": "stdout",
          "text": [
            "8.0K\t./.config/configurations\n",
            "72K\t./.config/logs/2022.11.22\n",
            "76K\t./.config/logs\n",
            "108K\t./.config\n",
            "55M\t.\n",
            "55M\t./sample_data\n"
          ]
        }
      ]
    },
    {
      "cell_type": "code",
      "source": [
        "# права в Google Colab\n",
        "!whoami"
      ],
      "metadata": {
        "colab": {
          "base_uri": "https://localhost:8080/"
        },
        "id": "gBYRJ67qqMJ2",
        "outputId": "83a7aaf3-47ed-47ff-e411-afe8f843ce1a"
      },
      "execution_count": null,
      "outputs": [
        {
          "output_type": "stream",
          "name": "stdout",
          "text": [
            "root\n"
          ]
        }
      ]
    },
    {
      "cell_type": "markdown",
      "source": [
        "# Библиотека Pytorch"
      ],
      "metadata": {
        "id": "xJef-8rXrMR2"
      }
    },
    {
      "cell_type": "markdown",
      "source": [
        "## Установка"
      ],
      "metadata": {
        "id": "mV8n8faxvOQO"
      }
    },
    {
      "cell_type": "markdown",
      "source": [
        "Ссылки для установки под ваше оборудование можно найти [тут](https://pytorch.org/get-started/locally/)."
      ],
      "metadata": {
        "id": "ZOyzr4Vp2vgZ"
      }
    },
    {
      "cell_type": "code",
      "source": [
        "import torch"
      ],
      "metadata": {
        "id": "b_dqa87wrRMu"
      },
      "execution_count": null,
      "outputs": []
    },
    {
      "cell_type": "code",
      "source": [
        "torch.cuda.is_available()"
      ],
      "metadata": {
        "colab": {
          "base_uri": "https://localhost:8080/"
        },
        "id": "2vcNoQZ4zVJG",
        "outputId": "b40bda65-a045-4ed2-cb9c-979971758efd"
      },
      "execution_count": null,
      "outputs": [
        {
          "output_type": "execute_result",
          "data": {
            "text/plain": [
              "True"
            ]
          },
          "metadata": {},
          "execution_count": 12
        }
      ]
    },
    {
      "cell_type": "code",
      "source": [
        "!python -m pip list | grep torch"
      ],
      "metadata": {
        "colab": {
          "base_uri": "https://localhost:8080/"
        },
        "id": "Fs_NS9SKzZeH",
        "outputId": "f367ae86-c007-42ad-9008-b51b79dfd8bd"
      },
      "execution_count": null,
      "outputs": [
        {
          "output_type": "stream",
          "name": "stdout",
          "text": [
            "torch                         1.12.1+cu113\n",
            "torchaudio                    0.12.1+cu113\n",
            "torchsummary                  1.5.1\n",
            "torchtext                     0.13.1\n",
            "torchvision                   0.13.1+cu113\n"
          ]
        }
      ]
    },
    {
      "cell_type": "markdown",
      "source": [
        "## Обзор возможностей и особенностей"
      ],
      "metadata": {
        "id": "W4qhspuX3zOE"
      }
    },
    {
      "cell_type": "markdown",
      "source": [
        "## Тензоры"
      ],
      "metadata": {
        "id": "mzgpHI4wuaPq"
      }
    },
    {
      "cell_type": "code",
      "source": [
        "a = torch.Tensor([1,2,3])\n",
        "a"
      ],
      "metadata": {
        "colab": {
          "base_uri": "https://localhost:8080/"
        },
        "id": "gZ4nzBuys7an",
        "outputId": "6ad6be93-3abe-4984-f444-04f62a5cc2fb"
      },
      "execution_count": null,
      "outputs": [
        {
          "output_type": "execute_result",
          "data": {
            "text/plain": [
              "tensor([1., 2., 3.])"
            ]
          },
          "metadata": {},
          "execution_count": 14
        }
      ]
    },
    {
      "cell_type": "code",
      "source": [
        "b = torch.tensor([1,2,3])\n",
        "b"
      ],
      "metadata": {
        "colab": {
          "base_uri": "https://localhost:8080/"
        },
        "id": "JLpBNC4Ys-Eu",
        "outputId": "c8207b82-4143-4bdc-ed88-80c174b29008"
      },
      "execution_count": null,
      "outputs": [
        {
          "output_type": "execute_result",
          "data": {
            "text/plain": [
              "tensor([1, 2, 3])"
            ]
          },
          "metadata": {},
          "execution_count": 15
        }
      ]
    },
    {
      "cell_type": "markdown",
      "source": [
        "Типы данных"
      ],
      "metadata": {
        "id": "tNynZQ_2uc8l"
      }
    },
    {
      "cell_type": "code",
      "source": [
        "a.dtype, b.dtype"
      ],
      "metadata": {
        "colab": {
          "base_uri": "https://localhost:8080/"
        },
        "id": "evWkp5s7tllG",
        "outputId": "ee86333e-df35-4535-9ed1-77e9483ec504"
      },
      "execution_count": null,
      "outputs": [
        {
          "output_type": "execute_result",
          "data": {
            "text/plain": [
              "(torch.float32, torch.int64)"
            ]
          },
          "metadata": {},
          "execution_count": 16
        }
      ]
    },
    {
      "cell_type": "markdown",
      "source": [
        "Перевод данных в другой тип"
      ],
      "metadata": {
        "id": "d-ZmOf4Eufk3"
      }
    },
    {
      "cell_type": "code",
      "source": [
        "c = b.float()\n",
        "\n",
        "print(c, c.dtype)\n",
        "\n",
        "print(c.int(), c.int().dtype)\n",
        "print(c.long(), c.long().dtype)\n",
        "print(c.double(), c.double().dtype)"
      ],
      "metadata": {
        "colab": {
          "base_uri": "https://localhost:8080/"
        },
        "id": "KqTujW0xto6G",
        "outputId": "9053f0bc-4bb8-41f6-85f1-9b1f2b674adc"
      },
      "execution_count": null,
      "outputs": [
        {
          "output_type": "stream",
          "name": "stdout",
          "text": [
            "tensor([1., 2., 3.]) torch.float32\n",
            "tensor([1, 2, 3], dtype=torch.int32) torch.int32\n",
            "tensor([1, 2, 3]) torch.int64\n",
            "tensor([1., 2., 3.], dtype=torch.float64) torch.float64\n"
          ]
        }
      ]
    },
    {
      "cell_type": "code",
      "source": [
        "x = torch.rand(2, 3)\n",
        "print(x) \n",
        "print(x.device)\n",
        "print(x.dtype)"
      ],
      "metadata": {
        "colab": {
          "base_uri": "https://localhost:8080/"
        },
        "id": "KCHM15UEtRY0",
        "outputId": "13c58121-43a8-4280-ce95-7a7926f34a03"
      },
      "execution_count": null,
      "outputs": [
        {
          "output_type": "stream",
          "name": "stdout",
          "text": [
            "tensor([[0.2825, 0.0773, 0.0426],\n",
            "        [0.4486, 0.1418, 0.8257]])\n",
            "cpu\n",
            "torch.float32\n"
          ]
        }
      ]
    },
    {
      "cell_type": "markdown",
      "source": [
        "## Воспроизводимость результатов"
      ],
      "metadata": {
        "id": "Am-la7kqCDEl"
      }
    },
    {
      "cell_type": "code",
      "source": [
        "# для воспроизводимости результатов\n",
        "# не изменяйте и не удаляйте этот код\n",
        "from numpy.random import seed\n",
        "import random\n",
        "\n",
        "random.seed(0)\n",
        "seed(0)\n",
        "torch.manual_seed(0)"
      ],
      "metadata": {
        "id": "DT_4H6vQuWuk",
        "colab": {
          "base_uri": "https://localhost:8080/"
        },
        "outputId": "8cad4ced-63f8-427d-e6de-d8e71af7cfed"
      },
      "execution_count": null,
      "outputs": [
        {
          "output_type": "execute_result",
          "data": {
            "text/plain": [
              "<torch._C.Generator at 0x7f3ecfb27ef0>"
            ]
          },
          "metadata": {},
          "execution_count": 19
        }
      ]
    },
    {
      "cell_type": "code",
      "source": [
        "!pip install pytorch-lightning -qqq"
      ],
      "metadata": {
        "id": "FqnA3ZPhkGul",
        "colab": {
          "base_uri": "https://localhost:8080/"
        },
        "outputId": "6f4df5f7-3853-49ae-b953-8c393b1426c8"
      },
      "execution_count": null,
      "outputs": [
        {
          "output_type": "stream",
          "name": "stdout",
          "text": [
            "\u001b[K     |████████████████████████████████| 798 kB 11.7 MB/s \n",
            "\u001b[K     |████████████████████████████████| 125 kB 11.4 MB/s \n",
            "\u001b[K     |████████████████████████████████| 512 kB 22.1 MB/s \n",
            "\u001b[K     |████████████████████████████████| 87 kB 2.5 MB/s \n",
            "\u001b[?25h  Building wheel for fire (setup.py) ... \u001b[?25l\u001b[?25hdone\n"
          ]
        }
      ]
    },
    {
      "cell_type": "code",
      "source": [
        "import pytorch_lightning as pl"
      ],
      "metadata": {
        "id": "M2C8FkatkN7D"
      },
      "execution_count": null,
      "outputs": []
    },
    {
      "cell_type": "code",
      "source": [
        "from pytorch_lightning import seed_everything"
      ],
      "metadata": {
        "id": "lLO_HB6ukaKg"
      },
      "execution_count": null,
      "outputs": []
    },
    {
      "cell_type": "markdown",
      "source": [
        "Function that sets seed for pseudo-random number generators in: pytorch, numpy, python.random"
      ],
      "metadata": {
        "id": "_fRUnIZCkvhx"
      }
    },
    {
      "cell_type": "code",
      "source": [
        "seed_everything(0, workers=True)                "
      ],
      "metadata": {
        "colab": {
          "base_uri": "https://localhost:8080/"
        },
        "id": "LGhazHGdkhir",
        "outputId": "df47e3b2-1288-4fa5-e03e-dadc98ba061a"
      },
      "execution_count": null,
      "outputs": [
        {
          "output_type": "stream",
          "name": "stderr",
          "text": [
            "INFO:lightning_lite.utilities.seed:Global seed set to 0\n"
          ]
        },
        {
          "output_type": "execute_result",
          "data": {
            "text/plain": [
              "0"
            ]
          },
          "metadata": {},
          "execution_count": 23
        }
      ]
    },
    {
      "cell_type": "markdown",
      "source": [
        "Подробнее можно прочитать [тут](https://pytorch.org/docs/stable/notes/randomness.html)."
      ],
      "metadata": {
        "id": "P8TfCik9DFMf"
      }
    },
    {
      "cell_type": "markdown",
      "source": [
        "## CUDA"
      ],
      "metadata": {
        "id": "eKr7PQlLke2o"
      }
    },
    {
      "cell_type": "code",
      "source": [
        "# проверка доступности видеокарты, выбор устройства CPU или GPU\n",
        "device = torch.device('cuda' if torch.cuda.is_available() else 'cpu')\n",
        "device"
      ],
      "metadata": {
        "colab": {
          "base_uri": "https://localhost:8080/"
        },
        "id": "es3dbo7murKO",
        "outputId": "dca32296-b34d-4f30-848d-bc8d5131e99c"
      },
      "execution_count": null,
      "outputs": [
        {
          "output_type": "execute_result",
          "data": {
            "text/plain": [
              "device(type='cuda')"
            ]
          },
          "metadata": {},
          "execution_count": 24
        }
      ]
    },
    {
      "cell_type": "markdown",
      "source": [
        "Данные нужно вручную переносить в видеопамять -- метод cuda. Перенос в оперативную память -- cpu. Альтернатива -- использование метода `.to(device)`. По умолчанию данные на cpu."
      ],
      "metadata": {
        "id": "3fTPaJAaC25o"
      }
    },
    {
      "cell_type": "code",
      "source": [
        "d = c.to(device)"
      ],
      "metadata": {
        "id": "t05HLcTEur0L"
      },
      "execution_count": null,
      "outputs": []
    },
    {
      "cell_type": "code",
      "source": [
        "import torch"
      ],
      "metadata": {
        "id": "9UXt23O4mx54"
      },
      "execution_count": null,
      "outputs": []
    },
    {
      "cell_type": "code",
      "source": [
        "torch.cuda.get_device_properties(0)"
      ],
      "metadata": {
        "colab": {
          "base_uri": "https://localhost:8080/"
        },
        "id": "Y2VjYSXykhKp",
        "outputId": "4849ca44-d8f5-4b94-9518-d9ff46f0515a"
      },
      "execution_count": null,
      "outputs": [
        {
          "output_type": "execute_result",
          "data": {
            "text/plain": [
              "_CudaDeviceProperties(name='Tesla T4', major=7, minor=5, total_memory=15109MB, multi_processor_count=40)"
            ]
          },
          "metadata": {},
          "execution_count": 27
        }
      ]
    },
    {
      "cell_type": "code",
      "source": [
        "!nvidia-smi"
      ],
      "metadata": {
        "colab": {
          "base_uri": "https://localhost:8080/"
        },
        "id": "znSVINf1oN9s",
        "outputId": "02045f99-d2a6-4844-9e82-e20865eea662"
      },
      "execution_count": null,
      "outputs": [
        {
          "output_type": "stream",
          "name": "stdout",
          "text": [
            "Thu Dec  1 07:36:20 2022       \n",
            "+-----------------------------------------------------------------------------+\n",
            "| NVIDIA-SMI 460.32.03    Driver Version: 460.32.03    CUDA Version: 11.2     |\n",
            "|-------------------------------+----------------------+----------------------+\n",
            "| GPU  Name        Persistence-M| Bus-Id        Disp.A | Volatile Uncorr. ECC |\n",
            "| Fan  Temp  Perf  Pwr:Usage/Cap|         Memory-Usage | GPU-Util  Compute M. |\n",
            "|                               |                      |               MIG M. |\n",
            "|===============================+======================+======================|\n",
            "|   0  Tesla T4            Off  | 00000000:00:04.0 Off |                    0 |\n",
            "| N/A   42C    P0    26W /  70W |    612MiB / 15109MiB |      4%      Default |\n",
            "|                               |                      |                  N/A |\n",
            "+-------------------------------+----------------------+----------------------+\n",
            "                                                                               \n",
            "+-----------------------------------------------------------------------------+\n",
            "| Processes:                                                                  |\n",
            "|  GPU   GI   CI        PID   Type   Process name                  GPU Memory |\n",
            "|        ID   ID                                                   Usage      |\n",
            "|=============================================================================|\n",
            "+-----------------------------------------------------------------------------+\n"
          ]
        }
      ]
    },
    {
      "cell_type": "code",
      "source": [
        "def allocate_empty_tensor(dim_size):\n",
        "  a=torch.zeros(4096,dim_size,dtype=torch.float32,device='cuda')"
      ],
      "metadata": {
        "id": "BWsfUTi0oQnG"
      },
      "execution_count": 8,
      "outputs": []
    },
    {
      "cell_type": "code",
      "source": [
        "allocate_empty_tensor(2048)"
      ],
      "metadata": {
        "id": "pvUBeD9-phd2"
      },
      "execution_count": 9,
      "outputs": []
    },
    {
      "cell_type": "code",
      "source": [
        "torch.cuda.memory_allocated()"
      ],
      "metadata": {
        "colab": {
          "base_uri": "https://localhost:8080/"
        },
        "id": "qpJLSkedpdVK",
        "outputId": "4e6319cc-1c59-401f-de7f-e732c63d7512"
      },
      "execution_count": null,
      "outputs": [
        {
          "output_type": "execute_result",
          "data": {
            "text/plain": [
              "512"
            ]
          },
          "metadata": {},
          "execution_count": 31
        }
      ]
    },
    {
      "cell_type": "code",
      "source": [
        "torch.cuda.memory_reserved()"
      ],
      "metadata": {
        "colab": {
          "base_uri": "https://localhost:8080/"
        },
        "id": "PNbeLhzbp8Ch",
        "outputId": "3bef2f18-a278-4fb3-ebf9-a5eb57ad47fd"
      },
      "execution_count": null,
      "outputs": [
        {
          "output_type": "execute_result",
          "data": {
            "text/plain": [
              "35651584"
            ]
          },
          "metadata": {},
          "execution_count": 32
        }
      ]
    },
    {
      "cell_type": "code",
      "source": [
        "!nvidia-smi"
      ],
      "metadata": {
        "colab": {
          "base_uri": "https://localhost:8080/"
        },
        "id": "mN8IHOIcplaL",
        "outputId": "e446a7e4-f49b-49c4-f4d0-bdf417e778dc"
      },
      "execution_count": null,
      "outputs": [
        {
          "output_type": "stream",
          "name": "stdout",
          "text": [
            "Thu Dec  1 07:36:21 2022       \n",
            "+-----------------------------------------------------------------------------+\n",
            "| NVIDIA-SMI 460.32.03    Driver Version: 460.32.03    CUDA Version: 11.2     |\n",
            "|-------------------------------+----------------------+----------------------+\n",
            "| GPU  Name        Persistence-M| Bus-Id        Disp.A | Volatile Uncorr. ECC |\n",
            "| Fan  Temp  Perf  Pwr:Usage/Cap|         Memory-Usage | GPU-Util  Compute M. |\n",
            "|                               |                      |               MIG M. |\n",
            "|===============================+======================+======================|\n",
            "|   0  Tesla T4            Off  | 00000000:00:04.0 Off |                    0 |\n",
            "| N/A   42C    P0    26W /  70W |    644MiB / 15109MiB |      0%      Default |\n",
            "|                               |                      |                  N/A |\n",
            "+-------------------------------+----------------------+----------------------+\n",
            "                                                                               \n",
            "+-----------------------------------------------------------------------------+\n",
            "| Processes:                                                                  |\n",
            "|  GPU   GI   CI        PID   Type   Process name                  GPU Memory |\n",
            "|        ID   ID                                                   Usage      |\n",
            "|=============================================================================|\n",
            "+-----------------------------------------------------------------------------+\n"
          ]
        }
      ]
    },
    {
      "cell_type": "code",
      "source": [
        "allocate_empty_tensor(3072)"
      ],
      "metadata": {
        "id": "3yNsBe_Apxlv"
      },
      "execution_count": null,
      "outputs": []
    },
    {
      "cell_type": "code",
      "source": [
        "torch.cuda.memory_reserved()"
      ],
      "metadata": {
        "colab": {
          "base_uri": "https://localhost:8080/"
        },
        "id": "Gbj8FG_GqFUG",
        "outputId": "6346b80c-7ffd-4775-fbb9-0c96aa75d3c6"
      },
      "execution_count": null,
      "outputs": [
        {
          "output_type": "execute_result",
          "data": {
            "text/plain": [
              "85983232"
            ]
          },
          "metadata": {},
          "execution_count": 35
        }
      ]
    },
    {
      "cell_type": "code",
      "source": [
        "!nvidia-smi"
      ],
      "metadata": {
        "colab": {
          "base_uri": "https://localhost:8080/"
        },
        "id": "99PZakMWp3ZR",
        "outputId": "74056ce4-02c9-4020-e3a8-7689494f6947"
      },
      "execution_count": null,
      "outputs": [
        {
          "output_type": "stream",
          "name": "stdout",
          "text": [
            "Thu Dec  1 07:36:21 2022       \n",
            "+-----------------------------------------------------------------------------+\n",
            "| NVIDIA-SMI 460.32.03    Driver Version: 460.32.03    CUDA Version: 11.2     |\n",
            "|-------------------------------+----------------------+----------------------+\n",
            "| GPU  Name        Persistence-M| Bus-Id        Disp.A | Volatile Uncorr. ECC |\n",
            "| Fan  Temp  Perf  Pwr:Usage/Cap|         Memory-Usage | GPU-Util  Compute M. |\n",
            "|                               |                      |               MIG M. |\n",
            "|===============================+======================+======================|\n",
            "|   0  Tesla T4            Off  | 00000000:00:04.0 Off |                    0 |\n",
            "| N/A   42C    P0    26W /  70W |    692MiB / 15109MiB |      0%      Default |\n",
            "|                               |                      |                  N/A |\n",
            "+-------------------------------+----------------------+----------------------+\n",
            "                                                                               \n",
            "+-----------------------------------------------------------------------------+\n",
            "| Processes:                                                                  |\n",
            "|  GPU   GI   CI        PID   Type   Process name                  GPU Memory |\n",
            "|        ID   ID                                                   Usage      |\n",
            "|=============================================================================|\n",
            "+-----------------------------------------------------------------------------+\n"
          ]
        }
      ]
    },
    {
      "cell_type": "code",
      "source": [
        "torch.cuda.empty_cache()\n",
        "torch.cuda.memory_reserved()"
      ],
      "metadata": {
        "colab": {
          "base_uri": "https://localhost:8080/"
        },
        "id": "hIAzc2PFqLRj",
        "outputId": "9027f133-98c6-462f-b4b2-4e6499a5e5d0"
      },
      "execution_count": null,
      "outputs": [
        {
          "output_type": "execute_result",
          "data": {
            "text/plain": [
              "2097152"
            ]
          },
          "metadata": {},
          "execution_count": 37
        }
      ]
    },
    {
      "cell_type": "code",
      "source": [
        "!nvidia-smi"
      ],
      "metadata": {
        "colab": {
          "base_uri": "https://localhost:8080/"
        },
        "id": "LlhvCLl0qNil",
        "outputId": "158bbf6c-cbb2-49d1-a484-ac7403dbfbaf"
      },
      "execution_count": null,
      "outputs": [
        {
          "output_type": "stream",
          "name": "stdout",
          "text": [
            "Thu Dec  1 07:36:21 2022       \n",
            "+-----------------------------------------------------------------------------+\n",
            "| NVIDIA-SMI 460.32.03    Driver Version: 460.32.03    CUDA Version: 11.2     |\n",
            "|-------------------------------+----------------------+----------------------+\n",
            "| GPU  Name        Persistence-M| Bus-Id        Disp.A | Volatile Uncorr. ECC |\n",
            "| Fan  Temp  Perf  Pwr:Usage/Cap|         Memory-Usage | GPU-Util  Compute M. |\n",
            "|                               |                      |               MIG M. |\n",
            "|===============================+======================+======================|\n",
            "|   0  Tesla T4            Off  | 00000000:00:04.0 Off |                    0 |\n",
            "| N/A   42C    P0    26W /  70W |    612MiB / 15109MiB |      1%      Default |\n",
            "|                               |                      |                  N/A |\n",
            "+-------------------------------+----------------------+----------------------+\n",
            "                                                                               \n",
            "+-----------------------------------------------------------------------------+\n",
            "| Processes:                                                                  |\n",
            "|  GPU   GI   CI        PID   Type   Process name                  GPU Memory |\n",
            "|        ID   ID                                                   Usage      |\n",
            "|=============================================================================|\n",
            "+-----------------------------------------------------------------------------+\n"
          ]
        }
      ]
    },
    {
      "cell_type": "code",
      "source": [
        "allocate_empty_tensor(600000)\n",
        "torch.cuda.memory_reserved()"
      ],
      "metadata": {
        "colab": {
          "base_uri": "https://localhost:8080/"
        },
        "id": "AmgQgvNKrBt5",
        "outputId": "6976c3d4-84fb-431d-d430-912ae833df8e"
      },
      "execution_count": null,
      "outputs": [
        {
          "output_type": "execute_result",
          "data": {
            "text/plain": [
              "9833545728"
            ]
          },
          "metadata": {},
          "execution_count": 39
        }
      ]
    },
    {
      "cell_type": "markdown",
      "source": [
        "## Точность"
      ],
      "metadata": {
        "id": "mleBdxygtTPs"
      }
    },
    {
      "cell_type": "code",
      "source": [
        "torch.manual_seed(1337)\n",
        "x = torch.randn(5000, 5000)\n",
        "\n",
        "def matrix_power(x):\n",
        "  y = x @ x @ x @ x @ x @ x\n",
        "  return (y).sum().item()\n",
        "\n",
        "print(matrix_power(x))\n",
        "print(matrix_power(x.cuda()))"
      ],
      "metadata": {
        "colab": {
          "base_uri": "https://localhost:8080/"
        },
        "id": "DjHSkmVCtVy9",
        "outputId": "6b711d12-75a2-49f9-bc40-8ee3fb9c7b6a"
      },
      "execution_count": null,
      "outputs": [
        {
          "output_type": "stream",
          "name": "stdout",
          "text": [
            "27654770130944.0\n",
            "27654807879680.0\n"
          ]
        }
      ]
    },
    {
      "cell_type": "code",
      "source": [
        "import numpy as np\n",
        "print(matrix_power(x.numpy()))\n",
        "np.linalg.matrix_power(x.numpy(),6).sum()"
      ],
      "metadata": {
        "id": "Beplf35tnJ5x",
        "colab": {
          "base_uri": "https://localhost:8080/"
        },
        "outputId": "8c791361-e811-4555-c95e-11be5592e89c"
      },
      "execution_count": null,
      "outputs": [
        {
          "output_type": "stream",
          "name": "stdout",
          "text": [
            "27654749159424.0\n"
          ]
        },
        {
          "output_type": "execute_result",
          "data": {
            "text/plain": [
              "27654760000000.0"
            ]
          },
          "metadata": {},
          "execution_count": 41
        }
      ]
    },
    {
      "cell_type": "markdown",
      "source": [
        "Takeaway: numerical precision of floating point computations can vary between libraries, environments and devices, and from the user side, it is often hard to resolve this issue altogether. Usually, this happens due to a different summation order in code or due to inherent nondeterminism of hardware.\n",
        "\n",
        "However, note that the relative error is small enough, which makes such blatant discrepancies less of a problem in regular deep learning code.\n"
      ],
      "metadata": {
        "id": "Dc1_1MmXnNTP"
      }
    },
    {
      "cell_type": "markdown",
      "source": [
        "## Нейроны и линейные слои"
      ],
      "metadata": {
        "id": "64d_Ywznwgbn"
      }
    },
    {
      "cell_type": "markdown",
      "source": [
        "![alt text](https://drive.google.com/uc?export=view&id=1k96ch-5lAGYrfBk4xgoty93xy-GP2bhr)\n"
      ],
      "metadata": {
        "id": "-OBSxEORsEMG"
      }
    },
    {
      "cell_type": "markdown",
      "source": [
        "![alt text](https://drive.google.com/uc?export=view&id=1ORawq1pZJ7a2z7vUD2PPyLELkOHoAB51)"
      ],
      "metadata": {
        "id": "4kiuzSRBQAte"
      }
    },
    {
      "cell_type": "markdown",
      "source": [
        "![изображение.png](data:image/png;base64,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)"
      ],
      "metadata": {
        "id": "TEFP_hPO5MO5"
      }
    },
    {
      "cell_type": "markdown",
      "source": [
        "![изображение.png](data:image/png;base64,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)"
      ],
      "metadata": {
        "id": "_gZo-8fW3PLu"
      }
    },
    {
      "cell_type": "code",
      "source": [
        "batch_size = 2 # Количество покупателей\n",
        "w = 4          # Количество существующих товаров\n",
        "m = 3          # Количество существующих магазинов\n",
        "\n",
        "# Матрица покупателей\n",
        "X = torch.rand(batch_size, w)\n",
        "\n",
        "# Матрица цен в магазине\n",
        "W = torch.rand(m,w)\n",
        "\n",
        "# Цена за топливо\n",
        "b = torch.rand(m)\n",
        "\n",
        "print(X.shape, W.shape, b.shape)\n",
        "\n",
        "print(X)\n",
        "\n",
        "answer = X @ W.T + b\n",
        "answer.shape"
      ],
      "metadata": {
        "colab": {
          "base_uri": "https://localhost:8080/"
        },
        "id": "nSl2PWA9JUpE",
        "outputId": "8f779e55-49f0-43e0-baed-448cc784c076"
      },
      "execution_count": null,
      "outputs": [
        {
          "output_type": "stream",
          "name": "stdout",
          "text": [
            "torch.Size([2, 4]) torch.Size([3, 4]) torch.Size([3])\n",
            "tensor([[0.5997, 0.7686, 0.8438, 0.6866],\n",
            "        [0.9745, 0.5593, 0.4227, 0.4468]])\n"
          ]
        },
        {
          "output_type": "execute_result",
          "data": {
            "text/plain": [
              "torch.Size([2, 3])"
            ]
          },
          "metadata": {},
          "execution_count": 42
        }
      ]
    },
    {
      "cell_type": "code",
      "source": [
        "linear = torch.nn.Linear(4, 3)\n",
        "out = linear(X)\n",
        "out.shape\n",
        "print(out)"
      ],
      "metadata": {
        "colab": {
          "base_uri": "https://localhost:8080/"
        },
        "id": "fI3aho-92ik5",
        "outputId": "8edcae2b-29b1-4e9f-a2aa-fc7a53787e78"
      },
      "execution_count": null,
      "outputs": [
        {
          "output_type": "stream",
          "name": "stdout",
          "text": [
            "tensor([[-0.2150,  0.1464, -0.2611],\n",
            "        [ 0.0651,  0.2418, -0.0618]], grad_fn=<AddmmBackward0>)\n"
          ]
        }
      ]
    },
    {
      "cell_type": "code",
      "source": [
        "linear.weight.data.shape"
      ],
      "metadata": {
        "colab": {
          "base_uri": "https://localhost:8080/"
        },
        "id": "c4xuSW9EuxAx",
        "outputId": "538190fc-994b-433a-d860-52d8a14392c9"
      },
      "execution_count": null,
      "outputs": [
        {
          "output_type": "execute_result",
          "data": {
            "text/plain": [
              "torch.Size([3, 4])"
            ]
          },
          "metadata": {},
          "execution_count": 44
        }
      ]
    },
    {
      "cell_type": "markdown",
      "source": [
        "### Встроенные слои"
      ],
      "metadata": {
        "id": "YS4WszpAvJl4"
      }
    },
    {
      "cell_type": "code",
      "source": [
        "from torch import nn # модуль с базовыми слоями\n",
        "import torch.nn.functional as F # модуль с базовыми функциями"
      ],
      "metadata": {
        "id": "N5BaifEM4rVz"
      },
      "execution_count": null,
      "outputs": []
    },
    {
      "cell_type": "code",
      "source": [
        "dir(nn)[:10]"
      ],
      "metadata": {
        "colab": {
          "base_uri": "https://localhost:8080/"
        },
        "id": "UCzQK0As5BQM",
        "outputId": "69e57fe4-d9d3-4ec6-c120-5d32aab9ddb2"
      },
      "execution_count": null,
      "outputs": [
        {
          "output_type": "execute_result",
          "data": {
            "text/plain": [
              "['AdaptiveAvgPool1d',\n",
              " 'AdaptiveAvgPool2d',\n",
              " 'AdaptiveAvgPool3d',\n",
              " 'AdaptiveLogSoftmaxWithLoss',\n",
              " 'AdaptiveMaxPool1d',\n",
              " 'AdaptiveMaxPool2d',\n",
              " 'AdaptiveMaxPool3d',\n",
              " 'AlphaDropout',\n",
              " 'AvgPool1d',\n",
              " 'AvgPool2d']"
            ]
          },
          "metadata": {},
          "execution_count": 46
        }
      ]
    },
    {
      "cell_type": "markdown",
      "metadata": {
        "id": "34ox66u1jNBG"
      },
      "source": [
        "Два способа создания нейросети:\n",
        "  1. на основе готового класса `nn.Sequential` объединяющего отдельные слои\n",
        "    - данные передаются по сети в том порядке, в каком объявлены слои\n",
        "    - функции активации задаются как отдельные слои\n",
        "  2. свой класс для нейросети, на основе `nn.Module`\n",
        "    - порядок передачи данных можно менять во время обучения, переопределив forward - динамический граф вычислений\n",
        "\n",
        "Первый способ стоит использовать только как контейнер для ряда слоев. Неросеть нужно наследовать от `nn.Module`.\n"
      ]
    },
    {
      "cell_type": "code",
      "source": [
        "net_seq = nn.Sequential(\n",
        "    nn.Linear(in_features=3, out_features=5),\n",
        "    nn.Sigmoid(),\n",
        "    nn.Linear(in_features=5, out_features=2),                                                            \n",
        ")\n",
        "net_seq.to(device)\n",
        "net_seq"
      ],
      "metadata": {
        "id": "H17RdEIv7aOT",
        "colab": {
          "base_uri": "https://localhost:8080/"
        },
        "outputId": "fc1d242d-6e32-4360-cebc-84f9c8d03bf3"
      },
      "execution_count": null,
      "outputs": [
        {
          "output_type": "execute_result",
          "data": {
            "text/plain": [
              "Sequential(\n",
              "  (0): Linear(in_features=3, out_features=5, bias=True)\n",
              "  (1): Sigmoid()\n",
              "  (2): Linear(in_features=5, out_features=2, bias=True)\n",
              ")"
            ]
          },
          "metadata": {},
          "execution_count": 47
        }
      ]
    },
    {
      "cell_type": "code",
      "source": [
        "net_seq(x.to(device))"
      ],
      "metadata": {
        "id": "v2xerVJ983e_",
        "colab": {
          "base_uri": "https://localhost:8080/",
          "height": 330
        },
        "outputId": "9d7274e3-9a2b-4e9f-aaf4-5d0167f01b97"
      },
      "execution_count": null,
      "outputs": [
        {
          "output_type": "error",
          "ename": "RuntimeError",
          "evalue": "ignored",
          "traceback": [
            "\u001b[0;31m---------------------------------------------------------------------------\u001b[0m",
            "\u001b[0;31mRuntimeError\u001b[0m                              Traceback (most recent call last)",
            "\u001b[0;32m<ipython-input-49-d17397edbdd1>\u001b[0m in \u001b[0;36m<module>\u001b[0;34m\u001b[0m\n\u001b[0;32m----> 1\u001b[0;31m \u001b[0mnet_seq\u001b[0m\u001b[0;34m(\u001b[0m\u001b[0mx\u001b[0m\u001b[0;34m.\u001b[0m\u001b[0mto\u001b[0m\u001b[0;34m(\u001b[0m\u001b[0mdevice\u001b[0m\u001b[0;34m)\u001b[0m\u001b[0;34m)\u001b[0m\u001b[0;34m\u001b[0m\u001b[0;34m\u001b[0m\u001b[0m\n\u001b[0m",
            "\u001b[0;32m/usr/local/lib/python3.7/dist-packages/torch/nn/modules/module.py\u001b[0m in \u001b[0;36m_call_impl\u001b[0;34m(self, *input, **kwargs)\u001b[0m\n\u001b[1;32m   1128\u001b[0m         if not (self._backward_hooks or self._forward_hooks or self._forward_pre_hooks or _global_backward_hooks\n\u001b[1;32m   1129\u001b[0m                 or _global_forward_hooks or _global_forward_pre_hooks):\n\u001b[0;32m-> 1130\u001b[0;31m             \u001b[0;32mreturn\u001b[0m \u001b[0mforward_call\u001b[0m\u001b[0;34m(\u001b[0m\u001b[0;34m*\u001b[0m\u001b[0minput\u001b[0m\u001b[0;34m,\u001b[0m \u001b[0;34m**\u001b[0m\u001b[0mkwargs\u001b[0m\u001b[0;34m)\u001b[0m\u001b[0;34m\u001b[0m\u001b[0;34m\u001b[0m\u001b[0m\n\u001b[0m\u001b[1;32m   1131\u001b[0m         \u001b[0;31m# Do not call functions when jit is used\u001b[0m\u001b[0;34m\u001b[0m\u001b[0;34m\u001b[0m\u001b[0;34m\u001b[0m\u001b[0m\n\u001b[1;32m   1132\u001b[0m         \u001b[0mfull_backward_hooks\u001b[0m\u001b[0;34m,\u001b[0m \u001b[0mnon_full_backward_hooks\u001b[0m \u001b[0;34m=\u001b[0m \u001b[0;34m[\u001b[0m\u001b[0;34m]\u001b[0m\u001b[0;34m,\u001b[0m \u001b[0;34m[\u001b[0m\u001b[0;34m]\u001b[0m\u001b[0;34m\u001b[0m\u001b[0;34m\u001b[0m\u001b[0m\n",
            "\u001b[0;32m/usr/local/lib/python3.7/dist-packages/torch/nn/modules/container.py\u001b[0m in \u001b[0;36mforward\u001b[0;34m(self, input)\u001b[0m\n\u001b[1;32m    137\u001b[0m     \u001b[0;32mdef\u001b[0m \u001b[0mforward\u001b[0m\u001b[0;34m(\u001b[0m\u001b[0mself\u001b[0m\u001b[0;34m,\u001b[0m \u001b[0minput\u001b[0m\u001b[0;34m)\u001b[0m\u001b[0;34m:\u001b[0m\u001b[0;34m\u001b[0m\u001b[0;34m\u001b[0m\u001b[0m\n\u001b[1;32m    138\u001b[0m         \u001b[0;32mfor\u001b[0m \u001b[0mmodule\u001b[0m \u001b[0;32min\u001b[0m \u001b[0mself\u001b[0m\u001b[0;34m:\u001b[0m\u001b[0;34m\u001b[0m\u001b[0;34m\u001b[0m\u001b[0m\n\u001b[0;32m--> 139\u001b[0;31m             \u001b[0minput\u001b[0m \u001b[0;34m=\u001b[0m \u001b[0mmodule\u001b[0m\u001b[0;34m(\u001b[0m\u001b[0minput\u001b[0m\u001b[0;34m)\u001b[0m\u001b[0;34m\u001b[0m\u001b[0;34m\u001b[0m\u001b[0m\n\u001b[0m\u001b[1;32m    140\u001b[0m         \u001b[0;32mreturn\u001b[0m \u001b[0minput\u001b[0m\u001b[0;34m\u001b[0m\u001b[0;34m\u001b[0m\u001b[0m\n\u001b[1;32m    141\u001b[0m \u001b[0;34m\u001b[0m\u001b[0m\n",
            "\u001b[0;32m/usr/local/lib/python3.7/dist-packages/torch/nn/modules/module.py\u001b[0m in \u001b[0;36m_call_impl\u001b[0;34m(self, *input, **kwargs)\u001b[0m\n\u001b[1;32m   1128\u001b[0m         if not (self._backward_hooks or self._forward_hooks or self._forward_pre_hooks or _global_backward_hooks\n\u001b[1;32m   1129\u001b[0m                 or _global_forward_hooks or _global_forward_pre_hooks):\n\u001b[0;32m-> 1130\u001b[0;31m             \u001b[0;32mreturn\u001b[0m \u001b[0mforward_call\u001b[0m\u001b[0;34m(\u001b[0m\u001b[0;34m*\u001b[0m\u001b[0minput\u001b[0m\u001b[0;34m,\u001b[0m \u001b[0;34m**\u001b[0m\u001b[0mkwargs\u001b[0m\u001b[0;34m)\u001b[0m\u001b[0;34m\u001b[0m\u001b[0;34m\u001b[0m\u001b[0m\n\u001b[0m\u001b[1;32m   1131\u001b[0m         \u001b[0;31m# Do not call functions when jit is used\u001b[0m\u001b[0;34m\u001b[0m\u001b[0;34m\u001b[0m\u001b[0;34m\u001b[0m\u001b[0m\n\u001b[1;32m   1132\u001b[0m         \u001b[0mfull_backward_hooks\u001b[0m\u001b[0;34m,\u001b[0m \u001b[0mnon_full_backward_hooks\u001b[0m \u001b[0;34m=\u001b[0m \u001b[0;34m[\u001b[0m\u001b[0;34m]\u001b[0m\u001b[0;34m,\u001b[0m \u001b[0;34m[\u001b[0m\u001b[0;34m]\u001b[0m\u001b[0;34m\u001b[0m\u001b[0;34m\u001b[0m\u001b[0m\n",
            "\u001b[0;32m/usr/local/lib/python3.7/dist-packages/torch/nn/modules/linear.py\u001b[0m in \u001b[0;36mforward\u001b[0;34m(self, input)\u001b[0m\n\u001b[1;32m    112\u001b[0m \u001b[0;34m\u001b[0m\u001b[0m\n\u001b[1;32m    113\u001b[0m     \u001b[0;32mdef\u001b[0m \u001b[0mforward\u001b[0m\u001b[0;34m(\u001b[0m\u001b[0mself\u001b[0m\u001b[0;34m,\u001b[0m \u001b[0minput\u001b[0m\u001b[0;34m:\u001b[0m \u001b[0mTensor\u001b[0m\u001b[0;34m)\u001b[0m \u001b[0;34m->\u001b[0m \u001b[0mTensor\u001b[0m\u001b[0;34m:\u001b[0m\u001b[0;34m\u001b[0m\u001b[0;34m\u001b[0m\u001b[0m\n\u001b[0;32m--> 114\u001b[0;31m         \u001b[0;32mreturn\u001b[0m \u001b[0mF\u001b[0m\u001b[0;34m.\u001b[0m\u001b[0mlinear\u001b[0m\u001b[0;34m(\u001b[0m\u001b[0minput\u001b[0m\u001b[0;34m,\u001b[0m \u001b[0mself\u001b[0m\u001b[0;34m.\u001b[0m\u001b[0mweight\u001b[0m\u001b[0;34m,\u001b[0m \u001b[0mself\u001b[0m\u001b[0;34m.\u001b[0m\u001b[0mbias\u001b[0m\u001b[0;34m)\u001b[0m\u001b[0;34m\u001b[0m\u001b[0;34m\u001b[0m\u001b[0m\n\u001b[0m\u001b[1;32m    115\u001b[0m \u001b[0;34m\u001b[0m\u001b[0m\n\u001b[1;32m    116\u001b[0m     \u001b[0;32mdef\u001b[0m \u001b[0mextra_repr\u001b[0m\u001b[0;34m(\u001b[0m\u001b[0mself\u001b[0m\u001b[0;34m)\u001b[0m \u001b[0;34m->\u001b[0m \u001b[0mstr\u001b[0m\u001b[0;34m:\u001b[0m\u001b[0;34m\u001b[0m\u001b[0;34m\u001b[0m\u001b[0m\n",
            "\u001b[0;31mRuntimeError\u001b[0m: mat1 and mat2 shapes cannot be multiplied (5000x5000 and 3x5)"
          ]
        }
      ]
    },
    {
      "cell_type": "code",
      "source": [
        "class Model(nn.Module):\n",
        "    def __init__(self):\n",
        "        super().__init__()\n",
        "        self.fc1 = nn.Linear(in_features=3, out_features=5)\n",
        "        self.fc2 = nn.Linear(in_features=5, out_features=2)\n",
        "\n",
        "    def forward(self, x):\n",
        "        x = self.fc1(x)\n",
        "        return F.sigmoid(self.fc2(x))"
      ],
      "metadata": {
        "id": "Xt4BPLs3-7DT"
      },
      "execution_count": null,
      "outputs": []
    },
    {
      "cell_type": "code",
      "source": [
        "net_model = Model()\n",
        "net_model.to(device)\n",
        "net_model"
      ],
      "metadata": {
        "id": "n7csNM12_UYG",
        "colab": {
          "base_uri": "https://localhost:8080/"
        },
        "outputId": "613b24ed-333a-4563-c103-0436c1358b87"
      },
      "execution_count": null,
      "outputs": [
        {
          "output_type": "execute_result",
          "data": {
            "text/plain": [
              "Model(\n",
              "  (fc1): Linear(in_features=3, out_features=5, bias=True)\n",
              "  (fc2): Linear(in_features=5, out_features=2, bias=True)\n",
              ")"
            ]
          },
          "metadata": {},
          "execution_count": 51
        }
      ]
    },
    {
      "cell_type": "markdown",
      "source": [
        "### **Задача 1**. Посчитайте количество обучаемых параметров в сети net_seq и net_model."
      ],
      "metadata": {
        "id": "7bIrvcYJ_5jK"
      }
    },
    {
      "cell_type": "code",
      "source": [
        "# Ваш ответ\n",
        "from torchsummary import summary\n",
        "\n",
        "summary(net_seq, (1,2,3))\n",
        "summary(net_model, (1,2,3))"
      ],
      "metadata": {
        "id": "V_yJTNuxwIcl",
        "colab": {
          "base_uri": "https://localhost:8080/"
        },
        "outputId": "068d63e2-e38c-4a58-c042-c11410ea88df"
      },
      "execution_count": null,
      "outputs": [
        {
          "output_type": "stream",
          "name": "stdout",
          "text": [
            "----------------------------------------------------------------\n",
            "        Layer (type)               Output Shape         Param #\n",
            "================================================================\n",
            "            Linear-1              [-1, 1, 2, 5]              20\n",
            "           Sigmoid-2              [-1, 1, 2, 5]               0\n",
            "            Linear-3              [-1, 1, 2, 2]              12\n",
            "================================================================\n",
            "Total params: 32\n",
            "Trainable params: 32\n",
            "Non-trainable params: 0\n",
            "----------------------------------------------------------------\n",
            "Input size (MB): 0.00\n",
            "Forward/backward pass size (MB): 0.00\n",
            "Params size (MB): 0.00\n",
            "Estimated Total Size (MB): 0.00\n",
            "----------------------------------------------------------------\n",
            "----------------------------------------------------------------\n",
            "        Layer (type)               Output Shape         Param #\n",
            "================================================================\n",
            "            Linear-1              [-1, 1, 2, 5]              20\n",
            "            Linear-2              [-1, 1, 2, 2]              12\n",
            "================================================================\n",
            "Total params: 32\n",
            "Trainable params: 32\n",
            "Non-trainable params: 0\n",
            "----------------------------------------------------------------\n",
            "Input size (MB): 0.00\n",
            "Forward/backward pass size (MB): 0.00\n",
            "Params size (MB): 0.00\n",
            "Estimated Total Size (MB): 0.00\n",
            "----------------------------------------------------------------\n"
          ]
        },
        {
          "output_type": "stream",
          "name": "stderr",
          "text": [
            "/usr/local/lib/python3.7/dist-packages/torch/nn/functional.py:1960: UserWarning: nn.functional.sigmoid is deprecated. Use torch.sigmoid instead.\n",
            "  warnings.warn(\"nn.functional.sigmoid is deprecated. Use torch.sigmoid instead.\")\n"
          ]
        }
      ]
    },
    {
      "cell_type": "markdown",
      "source": [
        "# Введение в глубокое обучение"
      ],
      "metadata": {
        "id": "-B0jOvkQE4MQ"
      }
    },
    {
      "cell_type": "code",
      "source": [
        "import numpy as np\n",
        "import torch"
      ],
      "metadata": {
        "id": "K3qDkWpcRTWZ"
      },
      "execution_count": null,
      "outputs": []
    },
    {
      "cell_type": "markdown",
      "source": [
        "![alt text](https://drive.google.com/uc?export=view&id=19I2SrQHTO4njMHwCYh8fcaX-qOcKKy2A)"
      ],
      "metadata": {
        "id": "sVIkrL0-ZjpO"
      }
    },
    {
      "cell_type": "markdown",
      "source": [
        "## **Задача 2**. Cделать нейрон, соответствующий оператору НЕ."
      ],
      "metadata": {
        "id": "9P9bWaC9QQJm"
      }
    },
    {
      "cell_type": "code",
      "source": [
        "from torch import nn\n",
        "class Neuron(torch.nn.Module):\n",
        "  def __init__(self):\n",
        "    super().__init__()\n",
        "    self.fc = nn.Linear(1,1)\n",
        "    \n",
        "  def forward(self, x):\n",
        "    return torch.heaviside(self.fc(x), torch.tensor([0.0]))"
      ],
      "metadata": {
        "id": "Hh8sSJkEWNmT"
      },
      "execution_count": null,
      "outputs": []
    },
    {
      "cell_type": "code",
      "source": [
        "neuron = Neuron()\n",
        "neuron.fc.weight, neuron.fc.bias"
      ],
      "metadata": {
        "id": "r9HoH1koVQXi",
        "colab": {
          "base_uri": "https://localhost:8080/"
        },
        "outputId": "0818a64a-c5b1-428d-f5ac-8748d10ca2be"
      },
      "execution_count": null,
      "outputs": [
        {
          "output_type": "execute_result",
          "data": {
            "text/plain": [
              "(Parameter containing:\n",
              " tensor([[-0.8090]], requires_grad=True), Parameter containing:\n",
              " tensor([0.8301], requires_grad=True))"
            ]
          },
          "metadata": {},
          "execution_count": 73
        }
      ]
    },
    {
      "cell_type": "code",
      "source": [
        "neuron.fc.weight.data = torch.tensor([[-0.6]])\n",
        "neuron.fc.bias.data = torch.tensor([0.5])"
      ],
      "metadata": {
        "id": "MLmGhtWFTYlV"
      },
      "execution_count": null,
      "outputs": []
    },
    {
      "cell_type": "code",
      "source": [
        "x = torch.tensor([0.0])\n",
        "neuron(x)"
      ],
      "metadata": {
        "id": "UFr5InkDTf-r",
        "colab": {
          "base_uri": "https://localhost:8080/"
        },
        "outputId": "fa2c5794-e9d7-437f-e775-a8a3bc08a794"
      },
      "execution_count": null,
      "outputs": [
        {
          "output_type": "execute_result",
          "data": {
            "text/plain": [
              "tensor([1.], grad_fn=<NotImplemented>)"
            ]
          },
          "metadata": {},
          "execution_count": 79
        }
      ]
    },
    {
      "cell_type": "markdown",
      "source": [
        "## **Задача 3**. Cделать нейрон, соответствующий оператору И."
      ],
      "metadata": {
        "id": "TRxJxcRJQsMz"
      }
    },
    {
      "cell_type": "code",
      "source": [
        "import torch\n",
        "class Neuron(torch.nn.Module):\n",
        "  def __init__(self):\n",
        "    super().__init__()\n",
        "    self.fc = torch.nn.Linear(2, 1)\n",
        "\n",
        "  def forward(self, x):\n",
        "    return torch.heaviside(self.fc(x), torch.tensor([0.0]))"
      ],
      "metadata": {
        "id": "7dvDtA7HX3V6"
      },
      "execution_count": null,
      "outputs": []
    },
    {
      "cell_type": "code",
      "source": [
        "neuron = Neuron()\n",
        "neuron.fc.weight, neuron.fc.bias"
      ],
      "metadata": {
        "id": "olMqAnQtX5NQ",
        "colab": {
          "base_uri": "https://localhost:8080/"
        },
        "outputId": "0bc6a464-a59f-4e0d-8b58-f3bc9d339785"
      },
      "execution_count": null,
      "outputs": [
        {
          "output_type": "execute_result",
          "data": {
            "text/plain": [
              "(Parameter containing:\n",
              " tensor([[0.6982, 0.0422]], requires_grad=True), Parameter containing:\n",
              " tensor([0.5027], requires_grad=True))"
            ]
          },
          "metadata": {},
          "execution_count": 82
        }
      ]
    },
    {
      "cell_type": "code",
      "source": [
        "neuron.fc.weight.data = torch.tensor([[0.5, 0.1]])\n",
        "neuron.fc.bias.data = torch.tensor([-0.2])"
      ],
      "metadata": {
        "id": "kAtwMX7HQ0aj"
      },
      "execution_count": null,
      "outputs": []
    },
    {
      "cell_type": "code",
      "source": [
        "x = torch.tensor([1.0, 1.0])\n",
        "neuron(x)"
      ],
      "metadata": {
        "id": "P27EdNkrXloh",
        "colab": {
          "base_uri": "https://localhost:8080/"
        },
        "outputId": "f8cb55f8-008c-4e2f-dee3-4d2e40dc37f9"
      },
      "execution_count": null,
      "outputs": [
        {
          "output_type": "execute_result",
          "data": {
            "text/plain": [
              "tensor([1.], grad_fn=<NotImplemented>)"
            ]
          },
          "metadata": {},
          "execution_count": 84
        }
      ]
    },
    {
      "cell_type": "markdown",
      "source": [
        "## **Задача 4**. Cделать нейрон, соответствующий оператору ИЛИ."
      ],
      "metadata": {
        "id": "MRuSrP7JQ00i"
      }
    },
    {
      "cell_type": "code",
      "source": [
        "neuron.fc.weight.data = torch.tensor([[1.0, 1.0]])\n",
        "neuron.fc.bias.data = torch.tensor([0.0])"
      ],
      "metadata": {
        "id": "23RuhFqbQ24-"
      },
      "execution_count": null,
      "outputs": []
    },
    {
      "cell_type": "code",
      "source": [
        "x = torch.tensor([1.0, 0.0])\n",
        "neuron(x)"
      ],
      "metadata": {
        "id": "i-BZHFqnXpLL",
        "colab": {
          "base_uri": "https://localhost:8080/"
        },
        "outputId": "8ad79da7-5dbd-47e3-9e38-870047da2e02"
      },
      "execution_count": null,
      "outputs": [
        {
          "output_type": "execute_result",
          "data": {
            "text/plain": [
              "tensor([1.], grad_fn=<NotImplemented>)"
            ]
          },
          "metadata": {},
          "execution_count": 89
        }
      ]
    },
    {
      "cell_type": "markdown",
      "source": [
        "## **Задача 5**. Cделать нейрон, соответствующий оператору XOR."
      ],
      "metadata": {
        "id": "1b95Z8u7Q3OL"
      }
    },
    {
      "cell_type": "code",
      "source": [
        "neuron.fc.weight.data = torch.tensor([[0.0, 1.0]])\n",
        "neuron.fc.bias.data = torch.tensor([0.0])"
      ],
      "metadata": {
        "id": "hWP7ee7tjCGv"
      },
      "execution_count": null,
      "outputs": []
    },
    {
      "cell_type": "code",
      "source": [
        "x = torch.tensor([0.0, 0.0])\n",
        "neuron(x)\n",
        "print(\"UNREAL\")"
      ],
      "metadata": {
        "id": "HgDrZ7PBjGwJ",
        "colab": {
          "base_uri": "https://localhost:8080/"
        },
        "outputId": "fb0be28c-5671-4f6a-e2d9-df25a9738e3e"
      },
      "execution_count": null,
      "outputs": [
        {
          "output_type": "stream",
          "name": "stdout",
          "text": [
            "UNREAL\n"
          ]
        }
      ]
    },
    {
      "cell_type": "markdown",
      "source": [
        "##*Курсив* **Вопрос 1**. Какие нейронные сети могут иметь только линейную разделяющую поверхность?"
      ],
      "metadata": {
        "id": "OiPV2u5zfwyo"
      }
    },
    {
      "cell_type": "markdown",
      "source": [
        "## ANSWER:\n",
        "##1) Нейросеть без функции активации \n",
        "##2) С одним нейроном"
      ],
      "metadata": {
        "id": "eNi4IwB8f9yK"
      }
    },
    {
      "cell_type": "markdown",
      "source": [
        "## **Вопрос 2**. Имеет ли смысл соединять полносвязанные нейроны (нейроны, которые принимают на вход все выходы предыдущего слоя) с линейной функцией активации в многослойную нейронную сеть?"
      ],
      "metadata": {
        "id": "uEf1aXsdgLBh"
      }
    },
    {
      "cell_type": "markdown",
      "source": [],
      "metadata": {
        "id": "Jy06MWy-gQCh"
      }
    },
    {
      "cell_type": "markdown",
      "source": [
        "# Домашнее задание"
      ],
      "metadata": {
        "id": "DJ9Uxo7DEns4"
      }
    },
    {
      "cell_type": "markdown",
      "source": [
        "Дедлайн домашнего задания - текущее воскресенье 23:59. "
      ],
      "metadata": {
        "id": "3hbaklz_96EN"
      }
    },
    {
      "cell_type": "markdown",
      "source": [
        "**Домашнее задание 0:** Создайте репозиторий на Github. Вся дальнейшая домашка загружается туда. Чуть позже в телеграм чате будет выложена форма для сдачи."
      ],
      "metadata": {
        "id": "E7VzrzlHyyci"
      }
    },
    {
      "cell_type": "code",
      "source": [
        "https://github.com/7Askar7/MONDAY_AI"
      ],
      "metadata": {
        "id": "54YFkD6XfMP8"
      },
      "execution_count": null,
      "outputs": []
    },
    {
      "cell_type": "markdown",
      "source": [
        "**Домашнее задание 1:** реализуйте XOR с помощью 3 нейронов. Запишите ответ в виде выражения, состоящего из объектов neuron() – моделей нейрона с пороговой функцией активации, внутри скобок может быть что угодно. Входы верхнего уровня называются x1 и x2. Пример фрагмента записи: neuron(1*x1 + 5*x2 - 0.1) + neuron(x1) (ответ будет выглядеть чуть сложнее, но других символов вроде && не потребуется)."
      ],
      "metadata": {
        "id": "me6riR-YEuYg"
      }
    },
    {
      "cell_type": "code",
      "source": [
        "from torch import nn\n",
        "import torch\n",
        "class Neuron5(nn.Module):\n",
        "      \n",
        "    def __init__(self):\n",
        "        super().__init__()\n",
        "        self.fc = nn.Linear(2,2)\n",
        "        self.fc2 = nn.Linear(2, 1)\n",
        "\n",
        "    def forward(self, x):\n",
        "        x = self.fc(x)\n",
        "        x = torch.heaviside(x, torch.tensor([0.0]))\n",
        "        x = self.fc2(x)\n",
        "        return torch.heaviside(x, torch.tensor([1.0]))"
      ],
      "metadata": {
        "id": "S8mNgwDsynxt"
      },
      "execution_count": 2,
      "outputs": []
    },
    {
      "cell_type": "code",
      "source": [
        "neuron = Neuron5()\n",
        "neuron.fc.weight, neuron.fc.bias\n",
        "\n",
        "neuron.fc.weight.data = torch.tensor([[1.0, 1.0],\n",
        "                                      [1.0, 1.0]])\n",
        "neuron.fc.bias.data = torch.tensor([-1.5, -0.5])\n",
        "\n",
        "neuron.fc2.weight.data = torch.tensor([[-1.0, 1.0]])\n",
        "neuron.fc2.bias.data = torch.tensor([-0.5])\n"
      ],
      "metadata": {
        "id": "-pn1O6aZAStK"
      },
      "execution_count": 3,
      "outputs": []
    },
    {
      "cell_type": "code",
      "source": [
        "x = torch.tensor([1.0, 0.0])\n",
        "neuron(x)"
      ],
      "metadata": {
        "colab": {
          "base_uri": "https://localhost:8080/"
        },
        "id": "AUj_vsvFAbTN",
        "outputId": "65761f8a-5004-4707-a3da-2c09a50afb36"
      },
      "execution_count": 4,
      "outputs": [
        {
          "output_type": "execute_result",
          "data": {
            "text/plain": [
              "tensor([1.], grad_fn=<NotImplemented>)"
            ]
          },
          "metadata": {},
          "execution_count": 4
        }
      ]
    },
    {
      "cell_type": "code",
      "source": [
        "class Neuron6(nn.Module):\n",
        "    def __init__(self):\n",
        "        super().__init__()\n",
        "        self.f = torch.nn.Linear(2,2)\n",
        "        self.f2 = torch.nn.Linear(2,1)\n",
        "    \n",
        "    def forward(self,x):\n",
        "        x = self.f(x)\n",
        "        x = torch.heaviside(x, torch.tensor([0.0]))\n",
        "        return torch.heaviside(self.f2(x), torch.tensor([0.0]))\n",
        "\n",
        "neuron6 = Neuron6()\n",
        "\n",
        "neuron6.f.weight.data = torch.tensor([[1.0, 1.0],\n",
        "                                      [1.0, 1.0]])\n",
        "\n",
        "neuron6.f.bias.data = torch.tensor([-1.5, -0.5])\n",
        "\n",
        "neuron6.f2.weight.data = torch.tensor([[-1.0, 1.0]])\n",
        "neuron6.f2.bias.data = torch.tensor([-0.5])"
      ],
      "metadata": {
        "id": "qlFXKm7drOou"
      },
      "execution_count": 5,
      "outputs": []
    },
    {
      "cell_type": "code",
      "source": [
        "x = torch.tensor([1.0, 0.0])\n",
        "neuron6(x)"
      ],
      "metadata": {
        "colab": {
          "base_uri": "https://localhost:8080/"
        },
        "id": "l5au2ZmgskuK",
        "outputId": "a3c88800-49a6-4e93-f4f8-31e06934e690"
      },
      "execution_count": 7,
      "outputs": [
        {
          "output_type": "execute_result",
          "data": {
            "text/plain": [
              "tensor([1.], grad_fn=<NotImplemented>)"
            ]
          },
          "metadata": {},
          "execution_count": 7
        }
      ]
    },
    {
      "cell_type": "markdown",
      "source": [
        "**Домашнее задание 2:** нарисуйте backward граф для выражения `a*b+c*d`. [Теория и пример оформления](https://www.youtube.com/watch?v=MswxJw-8PvE). Сравните полученные теоретические значения с аттрибутами grad у исходных тензоров."
      ],
      "metadata": {
        "id": "UQmVNc2kEyQP"
      }
    },
    {
      "cell_type": "code",
      "source": [
        "import torch\n",
        "a = torch.tensor([2.0], requires_grad=True)\n",
        "b = torch.tensor([4.0], requires_grad=True)\n",
        "c = torch.tensor([1.0], requires_grad=True)\n",
        "d = torch.tensor([5.0], requires_grad=False)"
      ],
      "metadata": {
        "id": "rHAT-rNxnh-X"
      },
      "execution_count": 1,
      "outputs": []
    },
    {
      "cell_type": "code",
      "source": [
        "print(a.grad)"
      ],
      "metadata": {
        "id": "yQUF6a8rnjyF",
        "colab": {
          "base_uri": "https://localhost:8080/"
        },
        "outputId": "f0f07634-82a5-446a-b0f7-7d3403118fb4"
      },
      "execution_count": 2,
      "outputs": [
        {
          "output_type": "stream",
          "name": "stdout",
          "text": [
            "None\n"
          ]
        }
      ]
    },
    {
      "cell_type": "code",
      "source": [
        "loss = a*b + c*d\n",
        "loss.backward()"
      ],
      "metadata": {
        "id": "WQewq5DCnnPF"
      },
      "execution_count": 3,
      "outputs": []
    },
    {
      "cell_type": "code",
      "source": [
        "print(a.grad)"
      ],
      "metadata": {
        "id": "tDxWZCwQnojN",
        "colab": {
          "base_uri": "https://localhost:8080/"
        },
        "outputId": "35702653-018a-40e9-a11a-e037131c3b8a"
      },
      "execution_count": 4,
      "outputs": [
        {
          "output_type": "stream",
          "name": "stdout",
          "text": [
            "tensor([4.])\n"
          ]
        }
      ]
    },
    {
      "cell_type": "markdown",
      "source": [
        "![image.png](data:image/png;base64,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)"
      ],
      "metadata": {
        "id": "bXVT3VXE6s7D"
      }
    },
    {
      "cell_type": "markdown",
      "source": [
        "**Домашнее задание 3:** Поэксперементируйте с размером тензоров, которые влезут на видеоркарту в Colab. Найдите максимальный размер тензора для типа данных float32, float64, float16, int32, int64. На сколько они отличаются."
      ],
      "metadata": {
        "id": "NxKEOwWDwv3Y"
      }
    },
    {
      "cell_type": "code",
      "source": [
        "import torch\n",
        "device = torch.device('cuda' if torch.cuda.is_available() else 'cpu')\n",
        "device"
      ],
      "metadata": {
        "colab": {
          "base_uri": "https://localhost:8080/"
        },
        "id": "IhZlXrs4zKeC",
        "outputId": "00e8b794-739a-44ef-c620-e2879f949ad3"
      },
      "execution_count": 10,
      "outputs": [
        {
          "output_type": "execute_result",
          "data": {
            "text/plain": [
              "device(type='cuda')"
            ]
          },
          "metadata": {},
          "execution_count": 10
        }
      ]
    },
    {
      "cell_type": "code",
      "source": [
        "import torch\n",
        "a = torch.rand(100000, 100000, dtype=torch.float16).to(device)\n",
        "print(a.size(), a.dtype)"
      ],
      "metadata": {
        "id": "gf9oEL6-2aw1"
      },
      "execution_count": null,
      "outputs": []
    },
    {
      "cell_type": "code",
      "source": [
        "a1 = torch.rand(70000, 70000, dtype=torch.float32).to(device)\n",
        "print(a1.size(), a1.dtype)"
      ],
      "metadata": {
        "id": "5XP4AfqIx0iI"
      },
      "execution_count": null,
      "outputs": []
    },
    {
      "cell_type": "code",
      "source": [
        "a2 = torch.rand(40000, 40000, dtype=torch.float64).to(device)\n",
        "print(a2.size(), a2.dtype)"
      ],
      "metadata": {
        "id": "hmd1CL7kx0q9"
      },
      "execution_count": null,
      "outputs": []
    },
    {
      "cell_type": "code",
      "source": [
        "a3 = torch.rand(100000, 100000).int().to(device)\n",
        "print(a3.size(), a3.dtype)"
      ],
      "metadata": {
        "id": "u9evE8N5x0ti"
      },
      "execution_count": null,
      "outputs": []
    },
    {
      "cell_type": "code",
      "source": [
        "a4 = torch.rand(50000, 50000).long().to(device)\n",
        "print(a4.size(), a4.dtype)"
      ],
      "metadata": {
        "id": "XLR7ld4Gx0wP"
      },
      "execution_count": null,
      "outputs": []
    },
    {
      "cell_type": "markdown",
      "source": [
        "**Домашнее задание 4:** Напишите хороший пример неэффективного кода для занятия памяти видеокарты, который вызовет ошибку out of memory"
      ],
      "metadata": {
        "id": "CBR5pWOlzOtl"
      }
    },
    {
      "cell_type": "code",
      "source": [
        "def allocate_empty_tensor(dim_size):\n",
        "  a=torch.zeros(4096,dim_size,dtype=torch.float32,device='cuda')"
      ],
      "metadata": {
        "id": "zOOGTpW26Yyb"
      },
      "execution_count": 11,
      "outputs": []
    },
    {
      "cell_type": "code",
      "source": [
        "allocate_empty_tensor(10000000)"
      ],
      "metadata": {
        "colab": {
          "base_uri": "https://localhost:8080/",
          "height": 306
        },
        "id": "oBFoU4byEVaC",
        "outputId": "cafde1c9-283c-429a-8f6a-fdd26469f700"
      },
      "execution_count": 22,
      "outputs": [
        {
          "output_type": "error",
          "ename": "RuntimeError",
          "evalue": "ignored",
          "traceback": [
            "\u001b[0;31m---------------------------------------------------------------------------\u001b[0m",
            "\u001b[0;31mRuntimeError\u001b[0m                              Traceback (most recent call last)",
            "\u001b[0;32m<ipython-input-22-999291b8e269>\u001b[0m in \u001b[0;36m<module>\u001b[0;34m\u001b[0m\n\u001b[0;32m----> 1\u001b[0;31m \u001b[0mallocate_empty_tensor\u001b[0m\u001b[0;34m(\u001b[0m\u001b[0;36m10000000\u001b[0m\u001b[0;34m)\u001b[0m\u001b[0;34m\u001b[0m\u001b[0;34m\u001b[0m\u001b[0m\n\u001b[0m",
            "\u001b[0;32m<ipython-input-11-bbc195e2a290>\u001b[0m in \u001b[0;36mallocate_empty_tensor\u001b[0;34m(dim_size)\u001b[0m\n\u001b[1;32m      1\u001b[0m \u001b[0;32mdef\u001b[0m \u001b[0mallocate_empty_tensor\u001b[0m\u001b[0;34m(\u001b[0m\u001b[0mdim_size\u001b[0m\u001b[0;34m)\u001b[0m\u001b[0;34m:\u001b[0m\u001b[0;34m\u001b[0m\u001b[0;34m\u001b[0m\u001b[0m\n\u001b[0;32m----> 2\u001b[0;31m   \u001b[0ma\u001b[0m\u001b[0;34m=\u001b[0m\u001b[0mtorch\u001b[0m\u001b[0;34m.\u001b[0m\u001b[0mzeros\u001b[0m\u001b[0;34m(\u001b[0m\u001b[0;36m4096\u001b[0m\u001b[0;34m,\u001b[0m\u001b[0mdim_size\u001b[0m\u001b[0;34m,\u001b[0m\u001b[0mdtype\u001b[0m\u001b[0;34m=\u001b[0m\u001b[0mtorch\u001b[0m\u001b[0;34m.\u001b[0m\u001b[0mfloat32\u001b[0m\u001b[0;34m,\u001b[0m\u001b[0mdevice\u001b[0m\u001b[0;34m=\u001b[0m\u001b[0;34m'cuda'\u001b[0m\u001b[0;34m)\u001b[0m\u001b[0;34m\u001b[0m\u001b[0;34m\u001b[0m\u001b[0m\n\u001b[0m",
            "\u001b[0;31mRuntimeError\u001b[0m: CUDA out of memory. Tried to allocate 152.59 GiB (GPU 0; 14.76 GiB total capacity; 0 bytes already allocated; 14.16 GiB free; 0 bytes reserved in total by PyTorch) If reserved memory is >> allocated memory try setting max_split_size_mb to avoid fragmentation.  See documentation for Memory Management and PYTORCH_CUDA_ALLOC_CONF"
          ]
        }
      ]
    },
    {
      "cell_type": "code",
      "source": [
        "torch.cuda.memory_allocated()"
      ],
      "metadata": {
        "id": "cRqKUSeQEFiz"
      },
      "execution_count": null,
      "outputs": []
    },
    {
      "cell_type": "code",
      "source": [
        "torch.cuda.memory_reserved()"
      ],
      "metadata": {
        "colab": {
          "base_uri": "https://localhost:8080/"
        },
        "id": "X7IBabGpEGWm",
        "outputId": "021bc8e1-04de-4d80-c1f3-2333e3c72aaf"
      },
      "execution_count": 24,
      "outputs": [
        {
          "output_type": "execute_result",
          "data": {
            "text/plain": [
              "0"
            ]
          },
          "metadata": {},
          "execution_count": 24
        }
      ]
    },
    {
      "cell_type": "markdown",
      "source": [
        "**Домашнее задание 5:** Используя один линейный слой `nn.Linear` и один входной тензор `x` подберите подберите размерности так, чтобы занимать всю видеопамять.\n",
        "Попробуйте применить линейный слой к тензору `x`. Что произойдет? Кратко опишите ваши эксперименты. Что вы поняли?"
      ],
      "metadata": {
        "id": "0_hOtvvR89jq"
      }
    },
    {
      "cell_type": "code",
      "source": [
        "from torch import nn\n",
        "import torch\n",
        "\n",
        "f = nn.Linear(50000,50000, device = \"cuda\")\n",
        "x = torch.ones(50000, device = \"cuda\")\n",
        "it = f(x)"
      ],
      "metadata": {
        "colab": {
          "base_uri": "https://localhost:8080/",
          "height": 455
        },
        "id": "iTZpUyWGgrur",
        "outputId": "a844e155-1df4-4108-b8c0-c3a2ef857fcd"
      },
      "execution_count": 37,
      "outputs": [
        {
          "output_type": "error",
          "ename": "RuntimeError",
          "evalue": "ignored",
          "traceback": [
            "\u001b[0;31m---------------------------------------------------------------------------\u001b[0m",
            "\u001b[0;31mRuntimeError\u001b[0m                              Traceback (most recent call last)",
            "\u001b[0;32m<ipython-input-37-30f533c21f71>\u001b[0m in \u001b[0;36m<module>\u001b[0;34m\u001b[0m\n\u001b[1;32m      2\u001b[0m \u001b[0;32mimport\u001b[0m \u001b[0mtorch\u001b[0m\u001b[0;34m\u001b[0m\u001b[0;34m\u001b[0m\u001b[0m\n\u001b[1;32m      3\u001b[0m \u001b[0;34m\u001b[0m\u001b[0m\n\u001b[0;32m----> 4\u001b[0;31m \u001b[0mf\u001b[0m \u001b[0;34m=\u001b[0m \u001b[0mnn\u001b[0m\u001b[0;34m.\u001b[0m\u001b[0mLinear\u001b[0m\u001b[0;34m(\u001b[0m\u001b[0;36m50000\u001b[0m\u001b[0;34m,\u001b[0m\u001b[0;36m50000\u001b[0m\u001b[0;34m,\u001b[0m \u001b[0mdevice\u001b[0m \u001b[0;34m=\u001b[0m \u001b[0;34m\"cuda\"\u001b[0m\u001b[0;34m)\u001b[0m\u001b[0;34m\u001b[0m\u001b[0;34m\u001b[0m\u001b[0m\n\u001b[0m\u001b[1;32m      5\u001b[0m \u001b[0mx\u001b[0m \u001b[0;34m=\u001b[0m \u001b[0mtorch\u001b[0m\u001b[0;34m.\u001b[0m\u001b[0mones\u001b[0m\u001b[0;34m(\u001b[0m\u001b[0;36m50000\u001b[0m\u001b[0;34m,\u001b[0m \u001b[0mdevice\u001b[0m \u001b[0;34m=\u001b[0m \u001b[0;34m\"cuda\"\u001b[0m\u001b[0;34m)\u001b[0m\u001b[0;34m\u001b[0m\u001b[0;34m\u001b[0m\u001b[0m\n\u001b[1;32m      6\u001b[0m \u001b[0mit\u001b[0m \u001b[0;34m=\u001b[0m \u001b[0mf\u001b[0m\u001b[0;34m(\u001b[0m\u001b[0mx\u001b[0m\u001b[0;34m)\u001b[0m\u001b[0;34m\u001b[0m\u001b[0;34m\u001b[0m\u001b[0m\n",
            "\u001b[0;32m/usr/local/lib/python3.8/dist-packages/torch/nn/modules/linear.py\u001b[0m in \u001b[0;36m__init__\u001b[0;34m(self, in_features, out_features, bias, device, dtype)\u001b[0m\n\u001b[1;32m     94\u001b[0m         \u001b[0mself\u001b[0m\u001b[0;34m.\u001b[0m\u001b[0min_features\u001b[0m \u001b[0;34m=\u001b[0m \u001b[0min_features\u001b[0m\u001b[0;34m\u001b[0m\u001b[0;34m\u001b[0m\u001b[0m\n\u001b[1;32m     95\u001b[0m         \u001b[0mself\u001b[0m\u001b[0;34m.\u001b[0m\u001b[0mout_features\u001b[0m \u001b[0;34m=\u001b[0m \u001b[0mout_features\u001b[0m\u001b[0;34m\u001b[0m\u001b[0;34m\u001b[0m\u001b[0m\n\u001b[0;32m---> 96\u001b[0;31m         \u001b[0mself\u001b[0m\u001b[0;34m.\u001b[0m\u001b[0mweight\u001b[0m \u001b[0;34m=\u001b[0m \u001b[0mParameter\u001b[0m\u001b[0;34m(\u001b[0m\u001b[0mtorch\u001b[0m\u001b[0;34m.\u001b[0m\u001b[0mempty\u001b[0m\u001b[0;34m(\u001b[0m\u001b[0;34m(\u001b[0m\u001b[0mout_features\u001b[0m\u001b[0;34m,\u001b[0m \u001b[0min_features\u001b[0m\u001b[0;34m)\u001b[0m\u001b[0;34m,\u001b[0m \u001b[0;34m**\u001b[0m\u001b[0mfactory_kwargs\u001b[0m\u001b[0;34m)\u001b[0m\u001b[0;34m)\u001b[0m\u001b[0;34m\u001b[0m\u001b[0;34m\u001b[0m\u001b[0m\n\u001b[0m\u001b[1;32m     97\u001b[0m         \u001b[0;32mif\u001b[0m \u001b[0mbias\u001b[0m\u001b[0;34m:\u001b[0m\u001b[0;34m\u001b[0m\u001b[0;34m\u001b[0m\u001b[0m\n\u001b[1;32m     98\u001b[0m             \u001b[0mself\u001b[0m\u001b[0;34m.\u001b[0m\u001b[0mbias\u001b[0m \u001b[0;34m=\u001b[0m \u001b[0mParameter\u001b[0m\u001b[0;34m(\u001b[0m\u001b[0mtorch\u001b[0m\u001b[0;34m.\u001b[0m\u001b[0mempty\u001b[0m\u001b[0;34m(\u001b[0m\u001b[0mout_features\u001b[0m\u001b[0;34m,\u001b[0m \u001b[0;34m**\u001b[0m\u001b[0mfactory_kwargs\u001b[0m\u001b[0;34m)\u001b[0m\u001b[0;34m)\u001b[0m\u001b[0;34m\u001b[0m\u001b[0;34m\u001b[0m\u001b[0m\n",
            "\u001b[0;31mRuntimeError\u001b[0m: CUDA out of memory. Tried to allocate 9.31 GiB (GPU 0; 14.76 GiB total capacity; 10.99 GiB already allocated; 2.91 GiB free; 11.05 GiB reserved in total by PyTorch) If reserved memory is >> allocated memory try setting max_split_size_mb to avoid fragmentation.  See documentation for Memory Management and PYTORCH_CUDA_ALLOC_CONF"
          ]
        }
      ]
    },
    {
      "cell_type": "markdown",
      "source": [
        "# Рекомендуемые ссылки"
      ],
      "metadata": {
        "id": "_Z2Ot37UODKM"
      }
    },
    {
      "cell_type": "markdown",
      "source": [
        "- [Нейронные сети и компьютерное зрение, Samsung AI Center, часть 1](https://stepik.org/course/50352/syllabus)\n",
        "- [Cимулятор](https://playground.tensorflow.org/) нейронов и нейронных сетей"
      ],
      "metadata": {
        "id": "SnFY95T7kNji"
      }
    }
  ]
}